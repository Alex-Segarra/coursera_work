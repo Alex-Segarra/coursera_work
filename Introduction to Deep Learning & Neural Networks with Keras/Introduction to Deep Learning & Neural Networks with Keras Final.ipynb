{
 "cells": [
  {
   "cell_type": "markdown",
   "metadata": {},
   "source": [
    "# Introduction to Deep Learning & Neural Networks with Keras Final"
   ]
  },
  {
   "cell_type": "markdown",
   "metadata": {},
   "source": [
    "<a id = 'toc'></a>\n",
    "## Table of Contents\n",
    "\n",
    "[1. Loading Libraries](#s1)\n",
    "\n",
    "[2. Import Data](#s2)\n",
    "\n",
    "[3. Train/Test Split](#s3)\n",
    "\n",
    "[4. Setting OLS Baseline](#s4)\n",
    "\n",
    "[5. Build the Baseline Neural Network](#s5)\n",
    "\n",
    "[6. Baseline Regression with Normalized Data](#s6)\n",
    "\n",
    "[7. Second Regression with 100 Epochs](#s7)\n",
    "\n",
    "[8. Regression with 3x Hidden Layers (10x Nodes Ea.)](#s8)\n"
   ]
  },
  {
   "cell_type": "markdown",
   "metadata": {},
   "source": [
    "<a id = 's1'></a>\n",
    "## 1. Loading Libraries\n",
    "\n",
    "Here are the libraries I'm using initiatlly.\n",
    "\n",
    "[Table of Contents](#toc)"
   ]
  },
  {
   "cell_type": "code",
   "execution_count": 18,
   "metadata": {},
   "outputs": [],
   "source": [
    "# Import top libraries\n",
    "import tensorflow as tf\n",
    "from tensorflow import keras"
   ]
  },
  {
   "cell_type": "code",
   "execution_count": 19,
   "metadata": {},
   "outputs": [],
   "source": [
    "import pandas as pd\n",
    "import numpy as np\n",
    "import matplotlib.pyplot as plt\n",
    "from sklearn import linear_model\n",
    "from sklearn.model_selection import train_test_split\n",
    "from sklearn.metrics import mean_squared_error, r2_score\n",
    "\n",
    "%matplotlib inline"
   ]
  },
  {
   "cell_type": "markdown",
   "metadata": {},
   "source": [
    "<a id = 's2'></a>\n",
    "## 2. Import Data\n",
    "\n",
    "Let's pull in the concrete data!\n",
    "\n",
    "[Table of Contents](#toc)"
   ]
  },
  {
   "cell_type": "code",
   "execution_count": 20,
   "metadata": {},
   "outputs": [
    {
     "data": {
      "text/html": [
       "<div>\n",
       "<style scoped>\n",
       "    .dataframe tbody tr th:only-of-type {\n",
       "        vertical-align: middle;\n",
       "    }\n",
       "\n",
       "    .dataframe tbody tr th {\n",
       "        vertical-align: top;\n",
       "    }\n",
       "\n",
       "    .dataframe thead th {\n",
       "        text-align: right;\n",
       "    }\n",
       "</style>\n",
       "<table border=\"1\" class=\"dataframe\">\n",
       "  <thead>\n",
       "    <tr style=\"text-align: right;\">\n",
       "      <th></th>\n",
       "      <th>Cement</th>\n",
       "      <th>Blast Furnace Slag</th>\n",
       "      <th>Fly Ash</th>\n",
       "      <th>Water</th>\n",
       "      <th>Superplasticizer</th>\n",
       "      <th>Coarse Aggregate</th>\n",
       "      <th>Fine Aggregate</th>\n",
       "      <th>Age</th>\n",
       "      <th>Strength</th>\n",
       "    </tr>\n",
       "  </thead>\n",
       "  <tbody>\n",
       "    <tr>\n",
       "      <th>0</th>\n",
       "      <td>540.0</td>\n",
       "      <td>0.0</td>\n",
       "      <td>0.0</td>\n",
       "      <td>162.0</td>\n",
       "      <td>2.5</td>\n",
       "      <td>1040.0</td>\n",
       "      <td>676.0</td>\n",
       "      <td>28</td>\n",
       "      <td>79.99</td>\n",
       "    </tr>\n",
       "    <tr>\n",
       "      <th>1</th>\n",
       "      <td>540.0</td>\n",
       "      <td>0.0</td>\n",
       "      <td>0.0</td>\n",
       "      <td>162.0</td>\n",
       "      <td>2.5</td>\n",
       "      <td>1055.0</td>\n",
       "      <td>676.0</td>\n",
       "      <td>28</td>\n",
       "      <td>61.89</td>\n",
       "    </tr>\n",
       "    <tr>\n",
       "      <th>2</th>\n",
       "      <td>332.5</td>\n",
       "      <td>142.5</td>\n",
       "      <td>0.0</td>\n",
       "      <td>228.0</td>\n",
       "      <td>0.0</td>\n",
       "      <td>932.0</td>\n",
       "      <td>594.0</td>\n",
       "      <td>270</td>\n",
       "      <td>40.27</td>\n",
       "    </tr>\n",
       "    <tr>\n",
       "      <th>3</th>\n",
       "      <td>332.5</td>\n",
       "      <td>142.5</td>\n",
       "      <td>0.0</td>\n",
       "      <td>228.0</td>\n",
       "      <td>0.0</td>\n",
       "      <td>932.0</td>\n",
       "      <td>594.0</td>\n",
       "      <td>365</td>\n",
       "      <td>41.05</td>\n",
       "    </tr>\n",
       "    <tr>\n",
       "      <th>4</th>\n",
       "      <td>198.6</td>\n",
       "      <td>132.4</td>\n",
       "      <td>0.0</td>\n",
       "      <td>192.0</td>\n",
       "      <td>0.0</td>\n",
       "      <td>978.4</td>\n",
       "      <td>825.5</td>\n",
       "      <td>360</td>\n",
       "      <td>44.30</td>\n",
       "    </tr>\n",
       "  </tbody>\n",
       "</table>\n",
       "</div>"
      ],
      "text/plain": [
       "   Cement  Blast Furnace Slag  Fly Ash  Water  Superplasticizer  \\\n",
       "0   540.0                 0.0      0.0  162.0               2.5   \n",
       "1   540.0                 0.0      0.0  162.0               2.5   \n",
       "2   332.5               142.5      0.0  228.0               0.0   \n",
       "3   332.5               142.5      0.0  228.0               0.0   \n",
       "4   198.6               132.4      0.0  192.0               0.0   \n",
       "\n",
       "   Coarse Aggregate  Fine Aggregate  Age  Strength  \n",
       "0            1040.0           676.0   28     79.99  \n",
       "1            1055.0           676.0   28     61.89  \n",
       "2             932.0           594.0  270     40.27  \n",
       "3             932.0           594.0  365     41.05  \n",
       "4             978.4           825.5  360     44.30  "
      ]
     },
     "execution_count": 20,
     "metadata": {},
     "output_type": "execute_result"
    }
   ],
   "source": [
    "# Reading in Concrete Data\n",
    "concrete_data = pd.read_csv('https://cocl.us/concrete_data')\n",
    "concrete_data.head()"
   ]
  },
  {
   "cell_type": "code",
   "execution_count": 21,
   "metadata": {},
   "outputs": [
    {
     "data": {
      "text/html": [
       "<div>\n",
       "<style scoped>\n",
       "    .dataframe tbody tr th:only-of-type {\n",
       "        vertical-align: middle;\n",
       "    }\n",
       "\n",
       "    .dataframe tbody tr th {\n",
       "        vertical-align: top;\n",
       "    }\n",
       "\n",
       "    .dataframe thead th {\n",
       "        text-align: right;\n",
       "    }\n",
       "</style>\n",
       "<table border=\"1\" class=\"dataframe\">\n",
       "  <thead>\n",
       "    <tr style=\"text-align: right;\">\n",
       "      <th></th>\n",
       "      <th>Cement</th>\n",
       "      <th>Blast Furnace Slag</th>\n",
       "      <th>Fly Ash</th>\n",
       "      <th>Water</th>\n",
       "      <th>Superplasticizer</th>\n",
       "      <th>Coarse Aggregate</th>\n",
       "      <th>Fine Aggregate</th>\n",
       "      <th>Age</th>\n",
       "      <th>Strength</th>\n",
       "    </tr>\n",
       "  </thead>\n",
       "  <tbody>\n",
       "    <tr>\n",
       "      <th>count</th>\n",
       "      <td>1030.000000</td>\n",
       "      <td>1030.000000</td>\n",
       "      <td>1030.000000</td>\n",
       "      <td>1030.000000</td>\n",
       "      <td>1030.000000</td>\n",
       "      <td>1030.000000</td>\n",
       "      <td>1030.000000</td>\n",
       "      <td>1030.000000</td>\n",
       "      <td>1030.000000</td>\n",
       "    </tr>\n",
       "    <tr>\n",
       "      <th>mean</th>\n",
       "      <td>281.167864</td>\n",
       "      <td>73.895825</td>\n",
       "      <td>54.188350</td>\n",
       "      <td>181.567282</td>\n",
       "      <td>6.204660</td>\n",
       "      <td>972.918932</td>\n",
       "      <td>773.580485</td>\n",
       "      <td>45.662136</td>\n",
       "      <td>35.817961</td>\n",
       "    </tr>\n",
       "    <tr>\n",
       "      <th>std</th>\n",
       "      <td>104.506364</td>\n",
       "      <td>86.279342</td>\n",
       "      <td>63.997004</td>\n",
       "      <td>21.354219</td>\n",
       "      <td>5.973841</td>\n",
       "      <td>77.753954</td>\n",
       "      <td>80.175980</td>\n",
       "      <td>63.169912</td>\n",
       "      <td>16.705742</td>\n",
       "    </tr>\n",
       "    <tr>\n",
       "      <th>min</th>\n",
       "      <td>102.000000</td>\n",
       "      <td>0.000000</td>\n",
       "      <td>0.000000</td>\n",
       "      <td>121.800000</td>\n",
       "      <td>0.000000</td>\n",
       "      <td>801.000000</td>\n",
       "      <td>594.000000</td>\n",
       "      <td>1.000000</td>\n",
       "      <td>2.330000</td>\n",
       "    </tr>\n",
       "    <tr>\n",
       "      <th>25%</th>\n",
       "      <td>192.375000</td>\n",
       "      <td>0.000000</td>\n",
       "      <td>0.000000</td>\n",
       "      <td>164.900000</td>\n",
       "      <td>0.000000</td>\n",
       "      <td>932.000000</td>\n",
       "      <td>730.950000</td>\n",
       "      <td>7.000000</td>\n",
       "      <td>23.710000</td>\n",
       "    </tr>\n",
       "    <tr>\n",
       "      <th>50%</th>\n",
       "      <td>272.900000</td>\n",
       "      <td>22.000000</td>\n",
       "      <td>0.000000</td>\n",
       "      <td>185.000000</td>\n",
       "      <td>6.400000</td>\n",
       "      <td>968.000000</td>\n",
       "      <td>779.500000</td>\n",
       "      <td>28.000000</td>\n",
       "      <td>34.445000</td>\n",
       "    </tr>\n",
       "    <tr>\n",
       "      <th>75%</th>\n",
       "      <td>350.000000</td>\n",
       "      <td>142.950000</td>\n",
       "      <td>118.300000</td>\n",
       "      <td>192.000000</td>\n",
       "      <td>10.200000</td>\n",
       "      <td>1029.400000</td>\n",
       "      <td>824.000000</td>\n",
       "      <td>56.000000</td>\n",
       "      <td>46.135000</td>\n",
       "    </tr>\n",
       "    <tr>\n",
       "      <th>max</th>\n",
       "      <td>540.000000</td>\n",
       "      <td>359.400000</td>\n",
       "      <td>200.100000</td>\n",
       "      <td>247.000000</td>\n",
       "      <td>32.200000</td>\n",
       "      <td>1145.000000</td>\n",
       "      <td>992.600000</td>\n",
       "      <td>365.000000</td>\n",
       "      <td>82.600000</td>\n",
       "    </tr>\n",
       "  </tbody>\n",
       "</table>\n",
       "</div>"
      ],
      "text/plain": [
       "            Cement  Blast Furnace Slag      Fly Ash        Water  \\\n",
       "count  1030.000000         1030.000000  1030.000000  1030.000000   \n",
       "mean    281.167864           73.895825    54.188350   181.567282   \n",
       "std     104.506364           86.279342    63.997004    21.354219   \n",
       "min     102.000000            0.000000     0.000000   121.800000   \n",
       "25%     192.375000            0.000000     0.000000   164.900000   \n",
       "50%     272.900000           22.000000     0.000000   185.000000   \n",
       "75%     350.000000          142.950000   118.300000   192.000000   \n",
       "max     540.000000          359.400000   200.100000   247.000000   \n",
       "\n",
       "       Superplasticizer  Coarse Aggregate  Fine Aggregate          Age  \\\n",
       "count       1030.000000       1030.000000     1030.000000  1030.000000   \n",
       "mean           6.204660        972.918932      773.580485    45.662136   \n",
       "std            5.973841         77.753954       80.175980    63.169912   \n",
       "min            0.000000        801.000000      594.000000     1.000000   \n",
       "25%            0.000000        932.000000      730.950000     7.000000   \n",
       "50%            6.400000        968.000000      779.500000    28.000000   \n",
       "75%           10.200000       1029.400000      824.000000    56.000000   \n",
       "max           32.200000       1145.000000      992.600000   365.000000   \n",
       "\n",
       "          Strength  \n",
       "count  1030.000000  \n",
       "mean     35.817961  \n",
       "std      16.705742  \n",
       "min       2.330000  \n",
       "25%      23.710000  \n",
       "50%      34.445000  \n",
       "75%      46.135000  \n",
       "max      82.600000  "
      ]
     },
     "execution_count": 21,
     "metadata": {},
     "output_type": "execute_result"
    }
   ],
   "source": [
    "#A Quick Look at the data\n",
    "## Some fields have considerable skew\n",
    "concrete_data.describe()"
   ]
  },
  {
   "cell_type": "markdown",
   "metadata": {},
   "source": [
    "<a id = 's3'></a>\n",
    "## 3. Train/Test Split\n",
    "\n",
    "Lets split the data!\n",
    "\n",
    "[Table of Contents](#toc)"
   ]
  },
  {
   "cell_type": "code",
   "execution_count": 22,
   "metadata": {},
   "outputs": [],
   "source": [
    "# Using a little list comprehension to filter out the names of columns I don't want\n",
    "X = concrete_data[[col for col in concrete_data.columns if col != 'Strength']]\n",
    "y = concrete_data[['Strength']]"
   ]
  },
  {
   "cell_type": "markdown",
   "metadata": {},
   "source": [
    "<a id = 's4'></a>\n",
    "## 4. Setting OLS Baseline\n",
    "\n",
    "Always set a baseline with a linear model.  105 is the MSE to beat!\n",
    "\n",
    "[Table of Contents](#toc)"
   ]
  },
  {
   "cell_type": "code",
   "execution_count": 23,
   "metadata": {},
   "outputs": [
    {
     "name": "stdout",
     "output_type": "stream",
     "text": [
      "Coefficients: \n",
      " [[ 0.11883248  0.09832464  0.08004253 -0.1245378   0.44345559  0.02005728\n",
      "   0.02358271  0.11776063]]\n",
      "MSE: \n",
      " 105.24762600345566\n",
      "R2 Score: \n",
      " 0.6011079327652087\n"
     ]
    },
    {
     "data": {
      "text/plain": [
       "<matplotlib.collections.PathCollection at 0x18f01172278>"
      ]
     },
     "execution_count": 23,
     "metadata": {},
     "output_type": "execute_result"
    },
    {
     "data": {
      "image/png": "[encoded data removed]",
      "text/plain": [
       "<Figure size 432x288 with 1 Axes>"
      ]
     },
     "metadata": {
      "needs_background": "light"
     },
     "output_type": "display_data"
    }
   ],
   "source": [
    "reg = linear_model.LinearRegression()\n",
    "r1 = reg.fit(X_train,y_train)\n",
    "y_pred = r1.predict(X_test)\n",
    "\n",
    "print('Coefficients: \\n', r1.coef_)\n",
    "print('MSE: \\n',mean_squared_error(y_test,y_pred))\n",
    "print('R2 Score: \\n', r2_score(y_test,y_pred))\n",
    "\n",
    "plt.scatter(y_test, y_pred, color='blue', linewidth=3)"
   ]
  },
  {
   "cell_type": "markdown",
   "metadata": {},
   "source": [
    "<a id = 's5'></a>\n",
    "## 5. Build the Baseline Neural Network\n",
    "\n",
    "#### A. Build a baseline model (5 marks)\n",
    "\n",
    "Use the Keras library to build a neural network with the following:\n",
    "\n",
    "- One hidden layer of 10 nodes, and a ReLU activation function\n",
    "\n",
    "- Use the adam optimizer and the mean squared error as the loss function.\n",
    "\n",
    "1. Randomly split the data into a training and test sets by holding 30% of the data for testing. You can use the train_test_splithelper function from Scikit-learn.\n",
    "\n",
    "2. Train the model on the training data using 50 epochs.\n",
    "\n",
    "3. Evaluate the model on the test data and compute the mean squared error between the predicted concrete strength and the actual concrete strength. You can use the mean_squared_error function from Scikit-learn.\n",
    "\n",
    "4. Repeat steps 1 - 3, 50 times, i.e., create a list of 50 mean squared errors.\n",
    "\n",
    "5. Report the mean and the standard deviation of the mean squared errors.\n",
    "\n",
    "[Table of Contents](#toc)"
   ]
  },
  {
   "cell_type": "code",
   "execution_count": 24,
   "metadata": {},
   "outputs": [],
   "source": [
    "from keras.models import Sequential\n",
    "from keras.layers import Dense"
   ]
  },
  {
   "cell_type": "code",
   "execution_count": 25,
   "metadata": {},
   "outputs": [],
   "source": [
    "def regression_model():\n",
    "    model = Sequential()\n",
    "    model.add(Dense(50, activation='relu', input_shape=(X_train.shape[1],)))\n",
    "    model.add(Dense(10, activation='relu'))\n",
    "    model.add(Dense(1))\n",
    "    \n",
    "    # compile model\n",
    "    model.compile(optimizer='adam', loss='mean_squared_error')\n",
    "    return model"
   ]
  },
  {
   "cell_type": "code",
   "execution_count": 46,
   "metadata": {},
   "outputs": [],
   "source": [
    "from IPython.display import clear_output\n",
    "\n",
    "class baseline_regression_model:\n",
    "    \n",
    "    def __init__(self,X,y,model,split=.3,seed=123, normalize = False, epochs=50,val_split=.3):\n",
    "        \n",
    "        \"\"\"\n",
    "        1. Sets conditions for running a neural network and its validation. \n",
    "            a. Epochs set to 50 by default.\n",
    "            b. Val_split set to .3 by default\n",
    "        2. Performs the train test split during construction, with random seed 123 and split .30 as defaults.\n",
    "            a. Will normalize X by subtracting the mean and dividing by the standard deviation if normalize is set to True. It\n",
    "            is False by default.\n",
    "            \n",
    "        Expects:\n",
    "            X: (DataFrame, Matrix, or Array) A vector of Independent Variables \n",
    "            y: (1 Column Dataframe or Array) Your Dependent Variable\n",
    "            model: (keras Sequential Model)\n",
    "            epochs: (Number of Epochs)\n",
    "            val_split: (Split for validation set)\n",
    "            \n",
    "        Returns:\n",
    "            None\n",
    "        \"\"\"\n",
    "        \n",
    "        # Normalizes the data with the following formula: (X_i - Mean(X)) / Standard_Deviation(X)\n",
    "        if normalize == True:\n",
    "            X = (X - X.mean()) / X.std()\n",
    "            \n",
    "        X_train, X_test, y_train, y_test = train_test_split(X,y,test_size=split, random_state = seed)\n",
    "        \n",
    "        self.X_train = X_train\n",
    "        self.y_train = y_train \n",
    "        self.X_test = X_test\n",
    "        self.y_test = y_test \n",
    "        self.model = model\n",
    "        self.epochs = epochs\n",
    "        self.val_split = val_split\n",
    "        \n",
    "    def run_model(self): \n",
    "        \"\"\"\n",
    "        Runs Model.          \n",
    "        Expects:\n",
    "            X_train (DataFrame, Matrix, or Array) A vector of Independent Variables \n",
    "            y_train (1 Column Dataframe or Array) Your Dependent Variable\n",
    "            model (keras Sequential Model)\n",
    "            epochs (Number of Epochs)\n",
    "            val_split (Split for validation set)\n",
    "            \n",
    "        Returns:\n",
    "            Historic_loss_df: A 2 column DF of val_loss and loss.\n",
    "            loss_array: A numpy array of all the last loss statistics.\n",
    "            History: The full fit model\n",
    "            \n",
    "        \"\"\"\n",
    "        loss_array = np.array([])\n",
    "        historic_loss_df = pd.DataFrame(columns = ['val_loss','loss'])\n",
    "        for i in range(1,51):\n",
    "            print(f'Currently at run {i} of {self.epochs}!')\n",
    "            clear_output(wait=True) # Clears the output\n",
    "            history = model.fit(self.X_train, self.y_train, validation_split= self.val_split, epochs= self.epochs ,verbose = 0) #trains the model\n",
    "            loss_array = np.append(loss_array,history.history['val_loss'][-1]) #Creates an np array of the loss to take the avg/std of later\n",
    "            #populates a df for a fancy visual later\n",
    "            if historic_loss_df.empty:\n",
    "                historic_loss_df = pd.DataFrame(history.history)\n",
    "            else:\n",
    "                historic_loss_df = pd.concat([historic_loss_df,pd.DataFrame(history.history)])\n",
    "        self.historic_loss_df = historic_loss_df\n",
    "        self.loss_array = loss_array\n",
    "        self.history = history\n",
    "      \n",
    "    def validation_statistics(self):\n",
    "        \"\"\"\n",
    "        Runs Regression Validations Statistics.          \n",
    "        Expects:\n",
    "            X_train (DataFrame, Matrix, or Array) A vector of Independent Variables \n",
    "            y_train (1 Column Dataframe or Array) Your Dependent Variable\n",
    "            model (keras Sequential Model)\n",
    "            epochs (Number of Epochs)\n",
    "            val_split (Split for validation set)\n",
    "            \n",
    "        Returns:\n",
    "            -The Average of every iteration's MSE \n",
    "            -The Standard Deviation of every iteration's MSE \n",
    "            -The Maximum MSE \n",
    "            -The Minimum MSE \n",
    "            -The Last Iteration's Loss \n",
    "            -A graph of loss vs val_loss\n",
    "            \n",
    "        \"\"\"\n",
    "        print(f\"\"\"The Average of every iteration's MSE is: {np.mean(self.loss_array)}\n",
    "            The Standard Deviation of every iteration's MSE is: {np.std(self.loss_array)}\n",
    "            The Maximum MSE is: {np.max(self.loss_array)}\n",
    "            The Minimum MSE is: {np.min(self.loss_array)}\n",
    "            The Last Iteration's Loss was: {self.loss_array[-1]}\n",
    "            The Test set's MSE is : {self.model.evaluate(self.X_test,self.y_test)}\n",
    "            \\n\"\"\")\n",
    "        self.historic_loss_df.reset_index().drop(columns=['index']).plot(figsize=(8,5))\n",
    "        plt.grid(True)\n",
    "        plt.show()\n",
    "                "
   ]
  },
  {
   "cell_type": "code",
   "execution_count": 42,
   "metadata": {},
   "outputs": [
    {
     "name": "stdout",
     "output_type": "stream",
     "text": [
      "309/309 [==============================] - 0s 26us/step\n",
      "The Average of every iteration's MSE is: 650.5943110199679\n",
      "            The Standard Deviation of every iteration's MSE is: 380.36076656308467\n",
      "            The Maximum MSE is: 1486.011201216878\n",
      "            The Minimum MSE is: 249.66671534946985\n",
      "            The Last Iteration's Loss was: 249.66671534946985\n",
      "            The Test set's MSE is : 264.85857008653164\n",
      "            \n",
      "\n"
     ]
    },
    {
     "data": {
      "image/png": "[encoded data removed]",
      "text/plain": [
       "<Figure size 576x360 with 1 Axes>"
      ]
     },
     "metadata": {
      "needs_background": "light"
     },
     "output_type": "display_data"
    }
   ],
   "source": [
    "model = regression_model()\n",
    "brm = baseline_regression_model(X=X,y=y,model=model)\n",
    "brm.run_model()\n",
    "brm.validation_statistics()"
   ]
  },
  {
   "cell_type": "markdown",
   "metadata": {},
   "source": [
    "<a id = 's6'></a>\n",
    "## 6. Baseline Regression with Normalized Data\n",
    "\n",
    "C. Repeat Part B but use 100 epochs this time for training.\n",
    "\n",
    "How does the mean of the mean squared errors compare to that from Step B?\n",
    "\n",
    "[Table of Contents](#toc)"
   ]
  },
  {
   "cell_type": "code",
   "execution_count": 47,
   "metadata": {},
   "outputs": [
    {
     "name": "stdout",
     "output_type": "stream",
     "text": [
      "309/309 [==============================] - 0s 39us/step\n",
      "The Average of every iteration's MSE is: 44.41393109158986\n",
      "            The Standard Deviation of every iteration's MSE is: 14.039068570056513\n",
      "            The Maximum MSE is: 132.1188002907186\n",
      "            The Minimum MSE is: 37.564000617523895\n",
      "            The Last Iteration's Loss was: 41.40921675334878\n",
      "            The Test set's MSE is : 35.67991720897094\n",
      "            \n",
      "\n"
     ]
    },
    {
     "data": {
      "image/png": "[encoded data removed]",
      "text/plain": [
       "<Figure size 576x360 with 1 Axes>"
      ]
     },
     "metadata": {
      "needs_background": "light"
     },
     "output_type": "display_data"
    }
   ],
   "source": [
    "model = regression_model()\n",
    "brm_norm = baseline_regression_model(X=X,y=y,model=model,normalize=True)\n",
    "brm_norm.run_model()\n",
    "brm_norm.validation_statistics()"
   ]
  },
  {
   "cell_type": "markdown",
   "metadata": {},
   "source": [
    "<a id = 's7'></a>\n",
    "## 7. Second Regression with 100 Epochs\n",
    "\n",
    "C. Increate the number of epochs (5 marks)\n",
    "\n",
    "Repeat Part B but use 100 epochs this time for training.\n",
    "\n",
    "How does the mean of the mean squared errors compare to that from Step B?\n",
    "\n",
    "[Table of Contents](#toc)"
   ]
  },
  {
   "cell_type": "code",
   "execution_count": null,
   "metadata": {},
   "outputs": [
    {
     "name": "stdout",
     "output_type": "stream",
     "text": [
      "Currently at run 13 of 100!\n"
     ]
    }
   ],
   "source": [
    "model = regression_model()\n",
    "brm_norm_100 = baseline_regression_model(X=X,y=y,model=model,epochs=100,normalize=True)\n",
    "brm_norm_100.run_model()\n",
    "brm_norm_100.validation_statistics()"
   ]
  },
  {
   "cell_type": "markdown",
   "metadata": {},
   "source": [
    "<a id = 's8'></a>\n",
    "## 8.  Regression with 3x Hidden Layers (10x Nodes Ea.)\n",
    "\n",
    "D. Increase the number of hidden layers (5 marks)\n",
    "\n",
    "Repeat part B but use a neural network with the following instead:\n",
    "\n",
    "- Three hidden layers, each of 10 nodes and ReLU activation function.\n",
    "\n",
    "How does the mean of the mean squared errors compare to that from Step B?\n",
    "\n",
    "[Table of Contents](#toc)"
   ]
  },
  {
   "cell_type": "code",
   "execution_count": null,
   "metadata": {},
   "outputs": [],
   "source": [
    "# Define new Model\n",
    "def second_regression_model():\n",
    "    model = Sequential()\n",
    "    model.add(Dense(50, activation='relu', input_shape=(X_train.shape[1],)))\n",
    "    model.add(Dense(10, activation='relu'))\n",
    "    model.add(Dense(10, activation='relu'))\n",
    "    model.add(Dense(10, activation='relu'))\n",
    "    model.add(Dense(1))\n",
    "    \n",
    "    # compile model\n",
    "    model.compile(optimizer='adam', loss='mean_squared_error')\n",
    "    return model\n"
   ]
  },
  {
   "cell_type": "code",
   "execution_count": null,
   "metadata": {},
   "outputs": [],
   "source": [
    "model = second_regression_model()\n",
    "brm_3x = baseline_regression_model(X=X,y=y,model=model,epochs=100,normalize=True)\n",
    "brm_3x.run_model()\n",
    "brm_3x.validation_statistics()"
   ]
  }
 ],
 "metadata": {
  "kernelspec": {
   "display_name": "Python 3",
   "language": "python",
   "name": "python3"
  },
  "language_info": {
   "codemirror_mode": {
    "name": "ipython",
    "version": 3
   },
   "file_extension": ".py",
   "mimetype": "text/x-python",
   "name": "python",
   "nbconvert_exporter": "python",
   "pygments_lexer": "ipython3",
   "version": "3.7.3"
  }
 },
 "nbformat": 4,
 "nbformat_minor": 4
}
